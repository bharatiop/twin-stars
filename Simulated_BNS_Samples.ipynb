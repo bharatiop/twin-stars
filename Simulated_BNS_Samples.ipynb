{
 "cells": [
  {
   "cell_type": "code",
   "execution_count": 1,
   "metadata": {
    "Collapsed": "false"
   },
   "outputs": [],
   "source": [
    "# SIMULATED_BNS_SAMPLES.IPYNB -- simulate mock samples for population of GW signals from BNS coalescences"
   ]
  },
  {
   "cell_type": "code",
   "execution_count": 2,
   "metadata": {
    "Collapsed": "false"
   },
   "outputs": [],
   "source": [
    "# import packages\n",
    "\n",
    "import numpy as np\n",
    "import matplotlib.pyplot as plt\n",
    "import seaborn as sns"
   ]
  },
  {
   "cell_type": "code",
   "execution_count": 3,
   "metadata": {
    "Collapsed": "false"
   },
   "outputs": [],
   "source": [
    "# define constants\n",
    "\n",
    "G = 6.67e-8\n",
    "c = 2.998e10\n",
    "Msol = 1.99e33"
   ]
  },
  {
   "cell_type": "code",
   "execution_count": 4,
   "metadata": {
    "Collapsed": "false"
   },
   "outputs": [
    {
     "name": "stdout",
     "output_type": "stream",
     "text": [
      "1.4782338600034926 1.2601197709386187 356.21751413953854\n"
     ]
    },
    {
     "data": {
      "image/png": "[encoded data removed]",
      "text/plain": [
       "<Figure size 432x288 with 1 Axes>"
      ]
     },
     "metadata": {
      "needs_background": "light"
     },
     "output_type": "display_data"
    }
   ],
   "source": [
    "# load GW170817 data\n",
    "\n",
    "GW170817path = './etc/GW170817_lospin.csv' # public GW170817 posterior samples from https://dcc.ligo.org/LIGO-P1800061/public\n",
    "GW170817dat = np.genfromtxt(GW170817path,names=True,delimiter=',',dtype=None,encoding=None)\n",
    "GW170817m1s = GW170817dat['m1_source']\n",
    "GW170817m2s = GW170817dat['m2_source']\n",
    "GW170817L1s = GW170817dat['Lambda1']\n",
    "GW170817L2s = GW170817dat['Lambda2']\n",
    "\n",
    "GW170817Lts = [16.*((m1+12*m2)*m1**4*L1+(m2+12*m1)*m2**4*L2)/(13.*(m1+m2)**5) for m1,m2,L1,L2 in zip(GW170817m1s,GW170817m2s,GW170817L1s,GW170817L2s)]\n",
    "\n",
    "GW170817m1 = np.median(GW170817m1s)\n",
    "GW170817m2 = np.median(GW170817m2s)\n",
    "GW170817Lt = np.median(GW170817Lts)\n",
    "print(GW170817m1,GW170817m2,GW170817Lt)\n",
    "\n",
    "GW170817snr = 33.\n",
    "GW170817dLt = 700./2\n",
    "GW170817dmc = 0.005/2\n",
    "GW170817dq = 0.27/2\n",
    "GW170817dDLt = 5000./2\n",
    "\n",
    "plt.hist(GW170817Lts,bins=int(np.sqrt(len(GW170817Lts))))\n",
    "plt.axvline(GW170817Lt,0.,300.,c='r')\n",
    "plt.xlim(0.,1500.)\n",
    "plt.ylim(0.,300.)\n",
    "plt.xlabel('Lambda_tilde')\n",
    "plt.ylabel('probability density')\n",
    "plt.show()"
   ]
  },
  {
   "cell_type": "code",
   "execution_count": 5,
   "metadata": {},
   "outputs": [],
   "source": [
    "# define transformed observables\n",
    "\n",
    "def mchirp_from_mass1_mass2(mass1, mass2):\n",
    "    \"\"\"Returns the chirp mass from mass1 and mass2.\"\"\"\n",
    "    return eta_from_mass1_mass2(mass1, mass2)**(3./5) * (mass1+mass2)\n",
    "\n",
    "def eta_from_mass1_mass2(mass1, mass2):\n",
    "    \"\"\"Returns the symmetric mass ratio from mass1 and mass2.\"\"\"\n",
    "    return mass1*mass2 / (mass1+mass2)**2.\n",
    "\n",
    "def q_from_mass1_mass2(mass1, mass2):\n",
    "    \"\"\"Returns the chirp mass from mass1 and mass2.\"\"\"\n",
    "    return mass2/mass1\n",
    "\n",
    "def chi_eff(mass1, mass2, spin1z, spin2z): \n",
    "    \"\"\"Returns the effective spin from mass1, mass2, spin1z, and spin2z.\"\"\"\n",
    "    return (spin1z * mass1 + spin2z * mass2) / (mass1 + mass2)\n",
    "\n",
    "def lambdatilde(lambda1,lambda2,m1,m2): \n",
    "    mtotal = m1+m2\n",
    "    m1fac=m1+12*m2\n",
    "    m2fac=m2+12*m1\n",
    "    return 16./13*(m1fac*m1**(4)*lambda1+m2fac*m2**(4)*lambda2)/mtotal**(5)\n",
    "\n",
    "def mcq_to_m1m2(mc,q):\n",
    "    \n",
    "    factor = mc*np.power(1+q, 1./5.)\n",
    "    m1 = factor*np.power(q, -3./5.)\n",
    "    m2 = factor*np.power(q, 2./5.)\n",
    "    \n",
    "    return m1,m2\n",
    "\n",
    "def Deltalambdatilde(lambda1,lambda2,q):\n",
    "    oneplusq6 = np.power(1+q,6)\n",
    "    m1fac=(1319.-7996.*q-11005.*q*q)/1319./oneplusq6\n",
    "    m2fac=np.power(q,4)*(1319.*q*q-7996.*q-11005.)/1319./oneplusq6\n",
    "    return (m1fac*lambda1-m2fac*lambda2)\n",
    "\n",
    "def Lambda1_of_tilde(LambdaT,DLambdaT,m1,m2):\n",
    "    mtotal = m1+m2\n",
    "    q=m2/m1\n",
    "    FactorLT1=16./13*(m1+12*m2)*m1**(4)/mtotal**(5)\n",
    "    oneplusq6 = np.power(1+q,6)\n",
    "    FactorDLT1=(1319.-7996.*q-11005.*q*q)/1319./oneplusq6\n",
    "    \n",
    "    FactorLT2=16./13*(m2+12*m1)*m2**(4)/mtotal**(5)\n",
    "    oneplusq6 = np.power(1+q,6)\n",
    "    FactorDLT2=np.power(q,4)*(1319.*q*q-7996.*q-11005.)/1319./oneplusq6\n",
    "    \n",
    "    return (FactorDLT2*LambdaT+FactorLT2*DLambdaT)/(FactorDLT2*FactorLT1+FactorLT2*FactorDLT1)\n",
    "    \n",
    "def Lambda2_of_tilde(LambdaT,DLambdaT,m1,m2):\n",
    "    mtotal = m1+m2\n",
    "    q=m2/m1\n",
    "    FactorLT1=16./13*(m1+12*m2)*m1**(4)/mtotal**(5)\n",
    "    oneplusq6 = np.power(1+q,6)\n",
    "    FactorDLT1=(1319.-7996.*q-11005.*q*q)/1319./oneplusq6\n",
    "    \n",
    "    FactorLT2=16./13*(m2+12*m1)*m2**(4)/mtotal**(5)\n",
    "    oneplusq6 = np.power(1+q,6)\n",
    "    FactorDLT2=np.power(q,4)*(1319.*q*q-7996.*q-11005.)/1319./oneplusq6\n",
    "\n",
    "    return (FactorDLT1*LambdaT-FactorLT1*DLambdaT)/(FactorDLT1*FactorLT2+FactorLT1*FactorDLT2)"
   ]
  },
  {
   "cell_type": "code",
   "execution_count": 6,
   "metadata": {
    "Collapsed": "false"
   },
   "outputs": [
    {
     "name": "stdout",
     "output_type": "stream",
     "text": [
      "0\n",
      "1524.7559756876183\n",
      "1\n",
      "55006.822582386754\n",
      "2\n",
      "1031.1869660650027\n",
      "3\n",
      "84752.68206155395\n",
      "4\n",
      "177202.444216428\n",
      "5\n",
      "8374.022541718929\n",
      "6\n",
      "8251.16025379001\n",
      "7\n",
      "1845362.6986499352\n",
      "8\n",
      "3263559.6779052345\n",
      "9\n",
      "683672.3642164327\n",
      "10\n",
      "19708.442882432177\n",
      "11\n",
      "31311.061107417423\n",
      "12\n",
      "93249.08971825708\n",
      "13\n",
      "23014.255137702534\n",
      "14\n",
      "57047.93587945728\n",
      "15\n",
      "28146.073767381666\n",
      "16\n",
      "3481.831377571856\n",
      "17\n",
      "28531506.095150962\n",
      "18\n",
      "18545.277824330715\n",
      "19\n",
      "6847.459149080197\n",
      "20\n",
      "133431.70842338805\n",
      "21\n",
      "12961.213405025052\n",
      "22\n",
      "13896.548763695251\n",
      "23\n",
      "101799.18549448416\n",
      "24\n",
      "2487.5353597825724\n",
      "25\n",
      "3649.7646002465003\n",
      "26\n"
     ]
    },
    {
     "name": "stderr",
     "output_type": "stream",
     "text": [
      "/opt/conda3/lib/python3.7/site-packages/ipykernel_launcher.py:28: RuntimeWarning: invalid value encountered in power\n",
      "/opt/conda3/lib/python3.7/site-packages/ipykernel_launcher.py:29: RuntimeWarning: invalid value encountered in power\n"
     ]
    },
    {
     "name": "stdout",
     "output_type": "stream",
     "text": [
      "50092642.64835218\n",
      "27\n",
      "19407.418486550654\n",
      "28\n",
      "5251.234297086919\n",
      "29\n",
      "17950.146055594825\n",
      "30\n",
      "12307.981303885534\n",
      "31\n",
      "40051.751731033226\n",
      "32\n",
      "116374.70373383556\n",
      "33\n",
      "22572.362556812976\n",
      "34\n",
      "8572.472016101456\n",
      "35\n",
      "2593640.017927752\n",
      "36\n",
      "3729599.8106165705\n",
      "37\n",
      "48597.39425596371\n",
      "38\n",
      "5523.138506255834\n",
      "39\n",
      "22388.15658551978\n"
     ]
    }
   ],
   "source": [
    "# draw samples from distributions for each binary\n",
    "\n",
    "POP_PATH = './dat/O5_unif_BNS_DBHF2010/BNS_MassesSpinsLambdas.csv'\n",
    "\n",
    "pop = np.genfromtxt(POP_PATH,names=True,delimiter=',',dtype=None,encoding=None) # load population\n",
    "\n",
    "snrs = pop['snr']\n",
    "m1s = pop['m1']\n",
    "m2s = pop['m2']\n",
    "L1s = pop['Lambda1']\n",
    "L2s = pop['Lambda2']\n",
    "\n",
    "mcs = mchirp_from_mass1_mass2(m1s,m2s)\n",
    "qs = q_from_mass1_mass2(m1s,m2s)\n",
    "Lts = lambdatilde(L1s,L2s,m1s,m2s)\n",
    "DLts = Deltalambdatilde(L1s,L2s,m2s/m1s)\n",
    "\n",
    "dmcs = [GW170817dmc*GW170817snr/snr for snr in snrs]\n",
    "dqs = [GW170817dq*GW170817snr/snr for snr in snrs]\n",
    "dLts = [GW170817dLt*GW170817snr/snr for snr in snrs]\n",
    "dDLts = [GW170817dDLt*GW170817snr/snr for snr in snrs]\n",
    "\n",
    "npop = 40 # number of detected events in population\n",
    "nsamps = 1000 # number of samples per event\n",
    "\n",
    "i = 0\n",
    "for snr,mc,dmc,q,dq,Lt,dLt,DLt,dDLt in zip(snrs,mcs,dmcs,qs,dqs,Lts,dLts,DLts,dDLts):\n",
    "\n",
    "    if snr <= 12.: continue # impose detection threshold of snr 12\n",
    "    print(i)\n",
    "    m1_samps, m2_samps, L1_samps, L2_samps = [], [], [], []\n",
    "    \n",
    "    for j in range(nsamps):\n",
    "    \n",
    "        m1_samp, m2_samp, mc_samp, q_samp, Lt_samp, L1_samp, L2_samp = [-1.,-1.,-1.,-1.,-1.,-1.,-1.]\n",
    "        \n",
    "        while m1_samp < 0. or m2_samp < 0. or mc_samp < 0. or q_samp < 0. or q_samp > 1.:\n",
    "            mc_samp = np.random.normal(mc+np.random.normal(0.,dmc/1.645),dmc/1.645)\n",
    "            q_samp = np.random.normal(q+0.3*np.random.normal(0.,dq/1.645),dq/1.645)\n",
    "            # including white noise with same standard deviation that moves the median, same correction factors as in https://arxiv.org/abs/2003.04880\n",
    "            m1_samp, m2_samp = mcq_to_m1m2(mc_samp,q_samp)\n",
    "            \n",
    "        while (L1_samp < 0.) or (L2_samp < 0.) or (L1_samp > L2_samp) or Lt_samp < 0.:\n",
    "                \n",
    "            Lt_samp = np.random.normal(Lt+0.5*np.random.normal(0.,dLt/1.645),dLt/1.645)\n",
    "            DLt_samp = np.random.normal(DLt+0.*np.random.normal(0.,dDLt/1.645),dDLt/1.645)\n",
    "            # including white noise with same standard deviation that moves the median, same correction factors as in https://arxiv.org/abs/2003.04880\n",
    "            L1_samp, L2_samp = Lambda1_of_tilde(Lt_samp,DLt_samp,m1_samp,m2_samp), Lambda2_of_tilde(Lt_samp,DLt_samp,m1_samp,m2_samp)\n",
    "    \n",
    "        m1_samps += [m1_samp]\n",
    "        m2_samps += [m2_samp]\n",
    "        L1_samps += [L1_samp]\n",
    "        L2_samps += [L2_samp]\n",
    "        \n",
    "    print(max(L2_samps))\n",
    "    # FIXME: save record of *detected* events and their IDs\n",
    "    \n",
    "    np.savetxt('./dat/O5_unif_BNS_DBHF2010/BNS_{0}.csv'.format(i),np.column_stack([m1_samps,m2_samps,L1_samps,L2_samps]),delimiter=',',comments='',header='m1,m2,Lambda1,Lambda2')\n",
    "    \n",
    "    i += 1\n",
    "    if i >= npop: break"
   ]
  },
  {
   "cell_type": "code",
   "execution_count": 7,
   "metadata": {
    "Collapsed": "false"
   },
   "outputs": [
    {
     "data": {
      "image/png": "[encoded data removed]",
      "text/plain": [
       "<Figure size 432x288 with 1 Axes>"
      ]
     },
     "metadata": {
      "needs_background": "light"
     },
     "output_type": "display_data"
    },
    {
     "data": {
      "image/png": "[encoded data removed]",
      "text/plain": [
       "<Figure size 432x288 with 1 Axes>"
      ]
     },
     "metadata": {
      "needs_background": "light"
     },
     "output_type": "display_data"
    }
   ],
   "source": [
    "# plot one set of samples to see what they look like\n",
    "\n",
    "bnsdat = np.genfromtxt('./dat/O5_unif_BNS_DBHF2010/BNS_0.csv',names=True,delimiter=',',dtype=None,encoding=None)\n",
    "\n",
    "sns.kdeplot(bnsdat['m2'],bnsdat['m1'],levels=[0.1,0.5],color='k')\n",
    "plt.scatter(bnsdat['m2'],bnsdat['m1'],marker='.')\n",
    "plt.xlim(0.5,3.)\n",
    "plt.ylim(0.5,3.)\n",
    "plt.xlabel('m2 [Msun]')\n",
    "plt.ylabel('m1 [Msun]')\n",
    "plt.show()\n",
    "\n",
    "sns.kdeplot(lambdatilde(bnsdat['Lambda1'],bnsdat['Lambda2'],bnsdat['m1'],bnsdat['m2']),color='b')\n",
    "plt.xlim(0.,5000.)\n",
    "plt.xlabel('Lambda_tilde')\n",
    "plt.ylabel('probability density')\n",
    "plt.show()"
   ]
  }
 ],
 "metadata": {
  "kernelspec": {
   "display_name": "Python 3 (ipykernel)",
   "language": "python",
   "name": "python3"
  },
  "language_info": {
   "codemirror_mode": {
    "name": "ipython",
    "version": 3
   },
   "file_extension": ".py",
   "mimetype": "text/x-python",
   "name": "python",
   "nbconvert_exporter": "python",
   "pygments_lexer": "ipython3",
   "version": "3.7.10"
  }
 },
 "nbformat": 4,
 "nbformat_minor": 4
}
